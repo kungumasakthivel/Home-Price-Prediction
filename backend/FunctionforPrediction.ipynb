{
 "cells": [
  {
   "cell_type": "code",
   "execution_count": 4,
   "id": "7e75fe66",
   "metadata": {},
   "outputs": [],
   "source": [
    "import pickle\n",
    "\n",
    "with open('HousePricePrediction.pkl', 'rb') as file:\n",
    "    loaded_data = pickle.load(file)\n",
    "\n",
    "lr_clf = loaded_data['model']\n",
    "columns = loaded_data['columns']"
   ]
  },
  {
   "cell_type": "code",
   "execution_count": 5,
   "id": "aad9cf28",
   "metadata": {},
   "outputs": [],
   "source": [
    "import pickle\n",
    "import numpy as np\n",
    "\n",
    "def predict_price(location, sqft, bath, bhk):\n",
    "    try:\n",
    "        loc_index = np.where(columns == location)[0][0]\n",
    "    except IndexError:\n",
    "        return \"Location not found in training data\"\n",
    "    \n",
    "    sample_df = np.zeros(len(columns))\n",
    "    sample_df[0] = sqft\n",
    "    sample_df[1] = bath\n",
    "    sample_df[2] = bhk\n",
    "    if loc_index is not None:\n",
    "        sample_df[loc_index] = 1\n",
    "   \n",
    "    return lr_clf.predict([sample_df])[0]"
   ]
  },
  {
   "cell_type": "code",
   "execution_count": 7,
   "id": "7d11638a",
   "metadata": {},
   "outputs": [
    {
     "name": "stdout",
     "output_type": "stream",
     "text": [
      "84.22924041844657\n"
     ]
    },
    {
     "name": "stderr",
     "output_type": "stream",
     "text": [
      "C:\\Users\\ajay2\\anaconda3\\lib\\site-packages\\sklearn\\base.py:450: UserWarning: X does not have valid feature names, but LinearRegression was fitted with feature names\n",
      "  warnings.warn(\n"
     ]
    }
   ],
   "source": [
    "print(predict_price('1st Phase JP Nagar', 1000, 2, 2))"
   ]
  }
 ],
 "metadata": {
  "kernelspec": {
   "display_name": "Python 3 (ipykernel)",
   "language": "python",
   "name": "python3"
  },
  "language_info": {
   "codemirror_mode": {
    "name": "ipython",
    "version": 3
   },
   "file_extension": ".py",
   "mimetype": "text/x-python",
   "name": "python",
   "nbconvert_exporter": "python",
   "pygments_lexer": "ipython3",
   "version": "3.9.13"
  }
 },
 "nbformat": 4,
 "nbformat_minor": 5
}
